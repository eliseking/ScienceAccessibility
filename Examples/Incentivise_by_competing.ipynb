{
 "cells": [
  {
   "cell_type": "code",
   "execution_count": 1,
   "metadata": {},
   "outputs": [],
   "source": [
    "import os\n",
    "import pickle\n",
    "assert os.path.isfile('results.p')\n",
    "winners = pickle.load(open('results.p','rb'))"
   ]
  },
  {
   "cell_type": "code",
   "execution_count": 2,
   "metadata": {},
   "outputs": [
    {
     "name": "stdout",
     "output_type": "stream",
     "text": [
      "[(18.59055501530493, 'the readability of science decr over time'), (20.607476413872092, 'upgoer5_corpus'), (23.733817106648907, 'scrook'), (23.738597714118146, 'rgerkin'), (47.06718655524891, 'peter')]\n"
     ]
    }
   ],
   "source": [
    "\n",
    "\n",
    "try:\n",
    "    assert os.path.isfile('results.p')\n",
    "    winners = pickle.load(open('results.p','rb'))\n",
    "except:\n",
    "    peter = str('https://academic.oup.com/beheco/article-abstract/29/1/264/4677340')\n",
    "    xkcd_self_sufficient = str('http://splasho.com/upgoer5/library.php')\n",
    "    high_standard = str('https://elifesciences.org/download/aHR0cHM6Ly9jZG4uZWxpZmVzY2llbmNlcy5vcmcvYXJ0aWNsZXMvMjc3MjUvZWxpZmUtMjc3MjUtdjIucGRm/elife-27725-v2.pdf?_hash=WA%2Fey48HnQ4FpVd6bc0xCTZPXjE5ralhFP2TaMBMp1c%3D')\n",
    "    rgerkin = str('https://scholar.google.com/citations?user=GzG5kRAAAAAJ&hl=en&oi=sra')\n",
    "    scrook = str('https://scholar.google.com/citations?user=xnsDhO4AAAAJ&hl=en&oe=ASCII&oi=sra')\n",
    "\n",
    "    from bs4 import BeautifulSoup\n",
    "    from crawl import collect_pubs\n",
    "    import os.path\n",
    "    import pickle\n",
    "\n",
    "\n",
    "    from crawl import FetchResource\n",
    "    from t_analysis_csv import text_proc\n",
    "\n",
    "\n",
    "    try:\n",
    "        assert os.path.isfile('authors.p')\n",
    "        authors = pickle.load(open('authors.p','rb'))\n",
    "    except:\n",
    "        rgerkin = collect_pubs(rgerkin)\n",
    "        scrook = collect_pubs(scrook)\n",
    "        authors = {}\n",
    "        authors['rgerkin'] = rgerkin\n",
    "        authors['scrook'] = scrook\n",
    "        with open('authors.p','wb') as f:\n",
    "            pickle.dump(authors,f)\n",
    "\n",
    "\n",
    "\n",
    "\n",
    "    fr = FetchResource(high_standard)\n",
    "    hs = fr.run()\n",
    "    urlDat = {'link':high_standard}\n",
    "    hss = text_proc(hs,urlDat)\n",
    "\n",
    "    fr = FetchResource(xkcd_self_sufficient)\n",
    "    bench_mark = fr.run()\n",
    "    urlDat = {'link':xkcd_self_sufficient}\n",
    "    bench = text_proc(bench_mark,urlDat)\n",
    "\n",
    "    fr = FetchResource(peter)\n",
    "    pmarting = fr.run()\n",
    "    urlDat = {'link':peter}\n",
    "    pm = text_proc(pmarting,urlDat)\n",
    "\n",
    "    try:\n",
    "        assert os.path.isfile('author_results.p')\n",
    "        author_results = pickle.load(open('author_results.p','rb'))\n",
    "    except:\n",
    "        author_results = {'rgerkin':{}, 'scrook':{}}\n",
    "        for author,links in authors.items():\n",
    "            for r in links:\n",
    "                fr = FetchResource(r)\n",
    "                corpus = fr.run()\n",
    "                if corpus is not None:\n",
    "                    urlDat = {'link':r}\n",
    "                    urlDat = text_proc(corpus,urlDat)\n",
    "\n",
    "                    if str(r) not in author_results.keys():\n",
    "                        author_results[author][str(r)] = urlDat\n",
    "                    else:\n",
    "                        author_results[author][str(r)] = urlDat\n",
    "            print(author_results)\n",
    "        with open('author_results.p','wb') as f:\n",
    "            pickle.dump(author_results,f)\n",
    "\n",
    "    rg = list(author_results['rgerkin'].values())\n",
    "    sc = list(author_results['scrook'].values())\n",
    "    import numpy as np\n",
    "\n",
    "    def metrics(rg):\n",
    "        if type(rg) is type([]):\n",
    "            pub_count = len(rg)\n",
    "            fog = np.mean([ r['gf'] for r in rg ])\n",
    "            unique = np.mean([ r['uniqueness'] for r in rg ])\n",
    "            density = np.mean([ r['info_density'] for r in rg ])\n",
    "            wcount = np.mean([ r['wcount'] for r in rg ])\n",
    "            scaled_density = density/wcount\n",
    "            obj = np.mean([ r['sp'] for r in rg ])\n",
    "        else:\n",
    "            pub_count = 1\n",
    "            fog = rg['gf']\n",
    "            unique = rg['gf']\n",
    "            density = rg['info_density']\n",
    "            wcount = rg['wcount']\n",
    "            obj = rg['sp']\n",
    "            scaled_density = density/wcount # higher better\n",
    "            # good writing should be readable, objective, concise.\n",
    "        penalty = fog + abs(obj) - scaled_density + unique\n",
    "        return (fog, obj, scaled_density, unique, penalty)\n",
    "\n",
    "\n",
    "    rick = metrics(rg)[4]\n",
    "    scrook = metrics(sc)[4]\n",
    "    bench = metrics(bench)[4]\n",
    "    pm = metrics(pm)[4]\n",
    "    hss = metrics(hss)[4]\n",
    "    winners = [('rgerkin',rick),('scrook',scrook),('upgoer5_corpus',bench),('the readability of science decr over time', hss), ('peter',pm)]\n",
    "    with open('results.p','wb') as f:\n",
    "        pickle.dump(winners,f)\n",
    "\n",
    "winners = sorted([(w[1],w[0]) for w in winners])\n",
    "print(winners)\n"
   ]
  },
  {
   "cell_type": "code",
   "execution_count": 3,
   "metadata": {},
   "outputs": [
    {
     "data": {
      "text/plain": [
       "[(18.59055501530493, 'the readability of science decr over time'),\n",
       " (20.607476413872092, 'upgoer5_corpus'),\n",
       " (23.733817106648907, 'scrook'),\n",
       " (23.738597714118146, 'rgerkin'),\n",
       " (47.06718655524891, 'peter')]"
      ]
     },
     "execution_count": 3,
     "metadata": {},
     "output_type": "execute_result"
    }
   ],
   "source": [
    "winners"
   ]
  },
  {
   "cell_type": "code",
   "execution_count": null,
   "metadata": {
    "collapsed": true
   },
   "outputs": [],
   "source": []
  }
 ],
 "metadata": {
  "kernelspec": {
   "display_name": "Python 3",
   "language": "python",
   "name": "python3"
  },
  "language_info": {
   "codemirror_mode": {
    "name": "ipython",
    "version": 3
   },
   "file_extension": ".py",
   "mimetype": "text/x-python",
   "name": "python",
   "nbconvert_exporter": "python",
   "pygments_lexer": "ipython3",
   "version": "3.6.5"
  }
 },
 "nbformat": 4,
 "nbformat_minor": 2
}
