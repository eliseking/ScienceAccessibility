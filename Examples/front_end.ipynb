{
 "cells": [
  {
   "cell_type": "code",
   "execution_count": 16,
   "metadata": {},
   "outputs": [],
   "source": [
    "from __future__ import division\n",
    "#import ipywidgets as ipw\n",
    "import ipywidgets as widgets\n",
    "VBox = widgets.VBox\n",
    "HBox = widgets.HBox\n",
    "from SComplexity\n",
    "from SComplexity.online_app_backend import call_from_front_end\n",
    "#widgets.VBox([widgets.Text(description=\"Author Last Name:\"),widgets.Text(description=\"First Iinitials:\")])\n"
   ]
  },
  {
   "cell_type": "code",
   "execution_count": 17,
   "metadata": {},
   "outputs": [],
   "source": [
    "title_textbox = widgets.Text(\n",
    "    value='First Initials Last Name',\n",
    "    description='Author Name:',\n",
    ")\n",
    "#title_textbox"
   ]
  },
  {
   "cell_type": "code",
   "execution_count": 18,
   "metadata": {},
   "outputs": [
    {
     "name": "stdout",
     "output_type": "stream",
     "text": [
      "First Initials Last Name\n"
     ]
    }
   ],
   "source": [
    "print(title_textbox.value)"
   ]
  },
  {
   "cell_type": "code",
   "execution_count": 27,
   "metadata": {},
   "outputs": [
    {
     "data": {
      "application/vnd.jupyter.widget-view+json": {
       "model_id": "f06c6d1e8016402c9d13d8544c9d09fe",
       "version_major": 2,
       "version_minor": 0
      },
      "text/plain": [
       "VBox(children=(HBox(children=(VBox(children=(Text(value='Enter Author First Iinitials, Last Name', description…"
      ]
     },
     "metadata": {},
     "output_type": "display_data"
    }
   ],
   "source": [
    "def interact_hookup(f, controls):\n",
    "    from ipywidgets import Output\n",
    "    out = Output()\n",
    "    def observer(change):\n",
    "        out.clear_output()\n",
    "        kwargs = {k:v.value for k,v in controls.items()}\n",
    "        with out:\n",
    "            f(**kwargs)\n",
    "            \n",
    "    for k,w in controls.items():\n",
    "        w.observe(observer, 'value')\n",
    "    observer(None)\n",
    "    return out\n",
    "\n",
    "w = dict(title=widgets.Text(value='Enter Author First Iinitials, Last Name', placeholder='Type something', description='Scholarly Author:', disabled=False))#,\n",
    "\n",
    "\n",
    "def makeplot(title):\n",
    "    print(title)\n",
    "output = interact_hookup(call_from_front_end, w)\n",
    "\n",
    "UI = VBox([\n",
    "    HBox([\n",
    "        VBox([\n",
    "            w['title']\n",
    "        ])\n",
    "    ]),\n",
    "    output\n",
    "])\n",
    "\n",
    "\n",
    "display(UI)"
   ]
  },
  {
   "cell_type": "code",
   "execution_count": null,
   "metadata": {},
   "outputs": [],
   "source": []
  },
  {
   "cell_type": "code",
   "execution_count": null,
   "metadata": {},
   "outputs": [],
   "source": []
  },
  {
   "cell_type": "code",
   "execution_count": null,
   "metadata": {},
   "outputs": [],
   "source": []
  },
  {
   "cell_type": "code",
   "execution_count": null,
   "metadata": {},
   "outputs": [],
   "source": []
  }
 ],
 "metadata": {
  "kernelspec": {
   "display_name": "Python 3",
   "language": "python",
   "name": "python3"
  },
  "language_info": {
   "codemirror_mode": {
    "name": "ipython",
    "version": 3
   },
   "file_extension": ".py",
   "mimetype": "text/x-python",
   "name": "python",
   "nbconvert_exporter": "python",
   "pygments_lexer": "ipython3",
   "version": "3.6.7"
  }
 },
 "nbformat": 4,
 "nbformat_minor": 2
}
