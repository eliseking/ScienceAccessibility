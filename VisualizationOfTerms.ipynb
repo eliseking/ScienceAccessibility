{
 "cells": [
  {
   "cell_type": "code",
   "execution_count": 1,
   "metadata": {},
   "outputs": [
    {
     "name": "stdout",
     "output_type": "stream",
     "text": [
      "[nltk_data] Downloading package punkt to /home/jovyan/nltk_data...\n",
      "[nltk_data]   Package punkt is already up-to-date!\n",
      "[nltk_data] Downloading package averaged_perceptron_tagger to\n",
      "[nltk_data]     /home/jovyan/nltk_data...\n",
      "[nltk_data]   Package averaged_perceptron_tagger is already up-to-\n",
      "[nltk_data]       date!\n"
     ]
    },
    {
     "name": "stderr",
     "output_type": "stream",
     "text": [
      "/opt/conda/lib/python3.6/site-packages/nltk/twitter/__init__.py:20: UserWarning: The twython library has not been installed. Some functionality from the twitter package will not be available.\n",
      "  warnings.warn(\"The twython library has not been installed. \"\n"
     ]
    }
   ],
   "source": [
    "import t_analysis\n"
   ]
  },
  {
   "cell_type": "code",
   "execution_count": 2,
   "metadata": {},
   "outputs": [
    {
     "name": "stdout",
     "output_type": "stream",
     "text": [
      " \n",
      "###############################################\n",
      " \n",
      "Term 1 of 4 : GMO\n",
      " \n",
      "###############################################\n",
      "Google\n",
      "-------------------------------------------\n",
      "Analyzing Search Engine 1 of ['google_', 'gScholar_', 'bing_', 'yahoo_']: Link 0\n",
      "\n",
      "google_0.p\n",
      "/home/jovyan/SReadability/GMO pwd\n",
      "Complexity Results:\n",
      "-----------------------------------------\n",
      "Number of Words: 5202\n",
      "Number of Sentences: 203\n",
      "Frequency of Search Term: 157\n",
      "Sentiment Analysis: 0.06920943514317013\n",
      "Subjectivity Analysis: 0.4485009953232841\n",
      "Grade level: 11.6\n",
      "Flesch Reading Ease: 33.61\n",
      "SMOG Index: 10.0\n",
      "Coleman Liau: 23.3\n",
      "Automated Readability Index: 18.4\n",
      "Gunning Fog: 17.43903114186851\n",
      "Dale Chall Readability Score: 8.4\n",
      "Difficult Words: 1368\n",
      "Linsear Write Formula: 4.75\n",
      "Text Standard: 11th and 12th grade\n",
      "\n",
      "\n",
      "\n",
      " \n",
      "###############################################\n",
      " \n",
      "Term 2 of 4 : Genetically_Modified_Organism\n",
      " \n",
      "###############################################\n",
      "Google\n",
      "-------------------------------------------\n",
      "Analyzing Search Engine 1 of ['google_', 'gScholar_', 'bing_', 'yahoo_']: Link 0\n",
      "\n",
      "google_0.p\n",
      "/home/jovyan/SReadability/Genetically_Modified_Organism pwd\n",
      "Complexity Results:\n",
      "----------------------------------------\n",
      "Number of Words: 5900\n",
      "Number of Sentences: 237\n",
      "Frequency of Search Term: 0\n",
      "Sentiment Analysis: 0.022732938860656283\n",
      "Subjectivity Analysis: 0.470712472159483\n",
      "Grade level: 14.1\n",
      "Flesch Reading Ease: 16.49\n",
      "SMOG Index: 10.9\n",
      "Coleman Liau: 25.97\n",
      "Automated Readability Index: 20.6\n",
      "Gunning Fog: 17.176271186440676\n",
      "Dale Chall Readability Score: 8.27\n",
      "Difficult Words: 1501\n",
      "Linsear Write Formula: 5.25\n",
      "Text Standard: 20th and 21th grade\n",
      "\n",
      "\n",
      "\n",
      " \n",
      "###############################################\n",
      " \n",
      "Term 3 of 4 : Transgenic\n",
      " \n",
      "###############################################\n",
      "Google\n",
      "-------------------------------------------\n",
      "Analyzing Search Engine 1 of ['google_', 'gScholar_', 'bing_', 'yahoo_']: Link 0\n",
      "\n",
      "google_0.p\n",
      "/home/jovyan/SReadability/Transgenic pwd\n",
      "Complexity Results:\n",
      "-----------------------------------------\n",
      "Number of Words: 157\n",
      "Number of Sentences: 9\n",
      "Frequency of Search Term: 0\n",
      "Sentiment Analysis: 0.15925925925925927\n",
      "Subjectivity Analysis: 0.4583333333333333\n",
      "Grade level: 8.9\n",
      "Flesch Reading Ease: 56.96\n",
      "SMOG Index: 8.0\n",
      "Coleman Liau: 16.64\n",
      "Automated Readability Index: 13.7\n",
      "Gunning Fog: 20.71363057324841\n",
      "Dale Chall Readability Score: 9.48\n",
      "Difficult Words: 51\n",
      "Linsear Write Formula: 6.857142857142857\n",
      "Text Standard: 8th and 9th grade\n",
      "\n",
      "\n",
      "\n",
      " \n",
      "###############################################\n",
      " \n",
      "Term 4 of 4 : Vaccine\n",
      " \n",
      "###############################################\n",
      "Google\n",
      "-------------------------------------------\n",
      "Analyzing Search Engine 1 of ['google_', 'gScholar_', 'bing_', 'yahoo_']: Link 0\n",
      "\n",
      "google_0.p\n",
      "/home/jovyan/SReadability/Vaccine pwd\n",
      "Complexity Results:\n",
      "-----------------------------------------\n",
      "Number of Words: 157\n",
      "Number of Sentences: 9\n",
      "Frequency of Search Term: 0\n",
      "Sentiment Analysis: 0.15925925925925927\n",
      "Subjectivity Analysis: 0.4583333333333333\n",
      "Grade level: 8.9\n",
      "Flesch Reading Ease: 56.96\n",
      "SMOG Index: 8.0\n",
      "Coleman Liau: 16.41\n",
      "Automated Readability Index: 13.5\n",
      "Gunning Fog: 20.71363057324841\n",
      "Dale Chall Readability Score: 9.48\n",
      "Difficult Words: 51\n",
      "Linsear Write Formula: 6.857142857142857\n",
      "Text Standard: 8th and 9th grade\n",
      "\n",
      "\n",
      "\n"
     ]
    },
    {
     "ename": "NameError",
     "evalue": "name 'df' is not defined",
     "output_type": "error",
     "traceback": [
      "\u001b[0;31m---------------------------------------------------------------------------\u001b[0m",
      "\u001b[0;31mNameError\u001b[0m                                 Traceback (most recent call last)",
      "\u001b[0;32m<ipython-input-2-b520a4e3098e>\u001b[0m in \u001b[0;36m<module>\u001b[0;34m()\u001b[0m\n\u001b[1;32m      8\u001b[0m \u001b[0;31m#              index=obj_arrs[1:,0],    # 1st column as index\u001b[0m\u001b[0;34m\u001b[0m\u001b[0;34m\u001b[0m\u001b[0m\n\u001b[1;32m      9\u001b[0m \u001b[0;31m#              columns=obj_arrs[0,1:])\u001b[0m\u001b[0;34m\u001b[0m\u001b[0;34m\u001b[0m\u001b[0m\n\u001b[0;32m---> 10\u001b[0;31m \u001b[0mdf\u001b[0m\u001b[0;34m\u001b[0m\u001b[0m\n\u001b[0m",
      "\u001b[0;31mNameError\u001b[0m: name 'df' is not defined"
     ]
    }
   ],
   "source": [
    "sl = [ (i, val) for i, val in enumerate(t_analysis.searchList) ]\n",
    "obj_arrs = list(map(t_analysis.iter_over,sl))\n",
    "import pandas as pd\n",
    "df"
   ]
  },
  {
   "cell_type": "code",
   "execution_count": 12,
   "metadata": {},
   "outputs": [
    {
     "data": {
      "text/html": [
       "<div>\n",
       "<table border=\"1\" class=\"dataframe\">\n",
       "  <thead>\n",
       "    <tr style=\"text-align: right;\">\n",
       "      <th></th>\n",
       "      <th>0</th>\n",
       "      <th>1</th>\n",
       "      <th>2</th>\n",
       "      <th>3</th>\n",
       "      <th>4</th>\n",
       "      <th>5</th>\n",
       "    </tr>\n",
       "  </thead>\n",
       "  <tbody>\n",
       "    <tr>\n",
       "      <th>0</th>\n",
       "      <td>[((1, 1), Number of Words), ((2, 1), Number of...</td>\n",
       "      <td>[(0, 15), (1, 6), (2, 4), (3, 9), (4, 23), (5,...</td>\n",
       "      <td>[((202, 0), 0.9), ((202, 1), 0.9), ((202, 2), ...</td>\n",
       "      <td>[((0, 1), 'the'), ((0, 2),  208), ((1, 1), 'gm...</td>\n",
       "      <td>[((0, 1), 'gmo'), ((0, 2),  'NN'), ((1, 1), 'g...</td>\n",
       "      <td>[((0, 1), 'gmo'), ((0, 2),  157), ((1, 1), 'go...</td>\n",
       "    </tr>\n",
       "    <tr>\n",
       "      <th>1</th>\n",
       "      <td>[((1, 1), Number of Words), ((2, 1), Number of...</td>\n",
       "      <td>[(0, 14), (1, 6), (2, 4), (3, 9), (4, 31), (5,...</td>\n",
       "      <td>[((236, 0), 5.4), ((236, 1), 0.9), ((236, 2), ...</td>\n",
       "      <td>[((0, 1), 'modified'), ((0, 2),  260), ((1, 1)...</td>\n",
       "      <td>[((0, 1), 'google'), ((0, 2),  'NN'), ((1, 1),...</td>\n",
       "      <td>[((0, 1), 'google'), ((0, 2),  3), ((1, 1), 's...</td>\n",
       "    </tr>\n",
       "    <tr>\n",
       "      <th>2</th>\n",
       "      <td>[((1, 1), Number of Words), ((2, 1), Number of...</td>\n",
       "      <td>[(0, 13), (1, 16), (2, 4), (3, 24), (4, 9), (5...</td>\n",
       "      <td>[((8, 0), 0.9), ((8, 1), 1.8), ((8, 2), 0.9)]</td>\n",
       "      <td>[((0, 1), 'the'), ((0, 2),  7), ((1, 1), 'to')...</td>\n",
       "      <td>[((0, 1), 'https'), ((0, 2),  'NN'), ((1, 1), ...</td>\n",
       "      <td>[((0, 1), 'https'), ((0, 2),  2), ((1, 1), 'ab...</td>\n",
       "    </tr>\n",
       "    <tr>\n",
       "      <th>3</th>\n",
       "      <td>[((1, 1), Number of Words), ((2, 1), Number of...</td>\n",
       "      <td>[(0, 13), (1, 16), (2, 4), (3, 24), (4, 9), (5...</td>\n",
       "      <td>[((8, 0), 0.9), ((8, 1), 1.8), ((8, 2), 0.9)]</td>\n",
       "      <td>[((0, 1), 'the'), ((0, 2),  7), ((1, 1), 'to')...</td>\n",
       "      <td>[((0, 1), 'https'), ((0, 2),  'NN'), ((1, 1), ...</td>\n",
       "      <td>[((0, 1), 'https'), ((0, 2),  2), ((1, 1), 'ab...</td>\n",
       "    </tr>\n",
       "  </tbody>\n",
       "</table>\n",
       "</div>"
      ],
      "text/plain": [
       "                                                   0  \\\n",
       "0  [((1, 1), Number of Words), ((2, 1), Number of...   \n",
       "1  [((1, 1), Number of Words), ((2, 1), Number of...   \n",
       "2  [((1, 1), Number of Words), ((2, 1), Number of...   \n",
       "3  [((1, 1), Number of Words), ((2, 1), Number of...   \n",
       "\n",
       "                                                   1  \\\n",
       "0  [(0, 15), (1, 6), (2, 4), (3, 9), (4, 23), (5,...   \n",
       "1  [(0, 14), (1, 6), (2, 4), (3, 9), (4, 31), (5,...   \n",
       "2  [(0, 13), (1, 16), (2, 4), (3, 24), (4, 9), (5...   \n",
       "3  [(0, 13), (1, 16), (2, 4), (3, 24), (4, 9), (5...   \n",
       "\n",
       "                                                   2  \\\n",
       "0  [((202, 0), 0.9), ((202, 1), 0.9), ((202, 2), ...   \n",
       "1  [((236, 0), 5.4), ((236, 1), 0.9), ((236, 2), ...   \n",
       "2      [((8, 0), 0.9), ((8, 1), 1.8), ((8, 2), 0.9)]   \n",
       "3      [((8, 0), 0.9), ((8, 1), 1.8), ((8, 2), 0.9)]   \n",
       "\n",
       "                                                   3  \\\n",
       "0  [((0, 1), 'the'), ((0, 2),  208), ((1, 1), 'gm...   \n",
       "1  [((0, 1), 'modified'), ((0, 2),  260), ((1, 1)...   \n",
       "2  [((0, 1), 'the'), ((0, 2),  7), ((1, 1), 'to')...   \n",
       "3  [((0, 1), 'the'), ((0, 2),  7), ((1, 1), 'to')...   \n",
       "\n",
       "                                                   4  \\\n",
       "0  [((0, 1), 'gmo'), ((0, 2),  'NN'), ((1, 1), 'g...   \n",
       "1  [((0, 1), 'google'), ((0, 2),  'NN'), ((1, 1),...   \n",
       "2  [((0, 1), 'https'), ((0, 2),  'NN'), ((1, 1), ...   \n",
       "3  [((0, 1), 'https'), ((0, 2),  'NN'), ((1, 1), ...   \n",
       "\n",
       "                                                   5  \n",
       "0  [((0, 1), 'gmo'), ((0, 2),  157), ((1, 1), 'go...  \n",
       "1  [((0, 1), 'google'), ((0, 2),  3), ((1, 1), 's...  \n",
       "2  [((0, 1), 'https'), ((0, 2),  2), ((1, 1), 'ab...  \n",
       "3  [((0, 1), 'https'), ((0, 2),  2), ((1, 1), 'ab...  "
      ]
     },
     "execution_count": 12,
     "metadata": {},
     "output_type": "execute_result"
    }
   ],
   "source": [
    "df = pd.DataFrame(data=obj_arrs)\n",
    "df"
   ]
  },
  {
   "cell_type": "code",
   "execution_count": 9,
   "metadata": {},
   "outputs": [
    {
     "data": {
      "text/plain": [
       "[((1, 1), 'Number of Words'),\n",
       " ((2, 1), 'Number of Sentences'),\n",
       " ((3, 1), 'Frequency of Search Term'),\n",
       " ((4, 1), 'Sentiment Analysis'),\n",
       " ((5, 1), 'Subjectivity Analysis'),\n",
       " ((6, 1), 'Grade level'),\n",
       " ((7, 1), 'Flesch Reading Ease'),\n",
       " ((8, 1), 'SMOG Index'),\n",
       " ((9, 1), 'Coleman Liau'),\n",
       " ((10, 1), 'Automated Readability Index'),\n",
       " ((11, 1), 'Gunning Fog'),\n",
       " ((12, 1), 'Dale Chall Readability Score'),\n",
       " ((13, 1), 'Difficult Words'),\n",
       " ((14, 1), 'Linsear Write Formula'),\n",
       " ((15, 1), 'Text Standard'),\n",
       " ((1, 2), 5900),\n",
       " ((2, 2), 237),\n",
       " ((3, 2), 0),\n",
       " ((6, 2), 14.1),\n",
       " ((7, 2), 16.49),\n",
       " ((8, 2), 10.9),\n",
       " ((9, 2), 25.97),\n",
       " ((10, 2), 20.6),\n",
       " ((11, 2), 17.176271186440676),\n",
       " ((12, 2), 8.27),\n",
       " ((13, 2), 1501),\n",
       " ((14, 2), 5.25),\n",
       " ((15, 2), '20th and 21th grade'),\n",
       " ((4, 2), 0.022732938860656283),\n",
       " ((5, 2), 0.470712472159483)]"
      ]
     },
     "execution_count": 9,
     "metadata": {},
     "output_type": "execute_result"
    }
   ],
   "source": [
    "df2 = df[0][1]\n",
    "df2"
   ]
  },
  {
   "cell_type": "code",
   "execution_count": 10,
   "metadata": {},
   "outputs": [
    {
     "data": {
      "text/plain": [
       "[((1, 1), 'Number of Words'),\n",
       " ((2, 1), 'Number of Sentences'),\n",
       " ((3, 1), 'Frequency of Search Term'),\n",
       " ((4, 1), 'Sentiment Analysis'),\n",
       " ((5, 1), 'Subjectivity Analysis'),\n",
       " ((6, 1), 'Grade level'),\n",
       " ((7, 1), 'Flesch Reading Ease'),\n",
       " ((8, 1), 'SMOG Index'),\n",
       " ((9, 1), 'Coleman Liau'),\n",
       " ((10, 1), 'Automated Readability Index'),\n",
       " ((11, 1), 'Gunning Fog'),\n",
       " ((12, 1), 'Dale Chall Readability Score'),\n",
       " ((13, 1), 'Difficult Words'),\n",
       " ((14, 1), 'Linsear Write Formula'),\n",
       " ((15, 1), 'Text Standard'),\n",
       " ((1, 2), 5900),\n",
       " ((2, 2), 237),\n",
       " ((3, 2), 0),\n",
       " ((6, 2), 14.1),\n",
       " ((7, 2), 16.49),\n",
       " ((8, 2), 10.9),\n",
       " ((9, 2), 25.97),\n",
       " ((10, 2), 20.6),\n",
       " ((11, 2), 17.176271186440676),\n",
       " ((12, 2), 8.27),\n",
       " ((13, 2), 1501),\n",
       " ((14, 2), 5.25),\n",
       " ((15, 2), '20th and 21th grade'),\n",
       " ((4, 2), 0.022732938860656283),\n",
       " ((5, 2), 0.470712472159483)]"
      ]
     },
     "execution_count": 10,
     "metadata": {},
     "output_type": "execute_result"
    }
   ],
   "source": [
    "df2"
   ]
  },
  {
   "cell_type": "code",
   "execution_count": 11,
   "metadata": {},
   "outputs": [
    {
     "name": "stdout",
     "output_type": "stream",
     "text": [
      "G\n",
      "M\n",
      "O\n"
     ]
    },
    {
     "data": {
      "text/plain": [
       "'\\n    for webi = 1:web\\n        for n = 1:7\\n            %find min and max values for each metric\\n            tempMin = min([plotData{webi,2}(n,:) metricAvg(n,1)]);\\n            tempMax = max([plotData{webi,2}(n,:) metricAvg(n,1)]);\\n\\n            %normalize\\n            for i = 1:numPerURL\\n                NplotData{webi,2}(n,i) = (plotData{webi,2}(n,i) - tempMin)/(tempMax-tempMin);\\n                metricAvg(n,2) = (metricAvg(n,1) - tempMin)/(tempMax-tempMin);\\n            end; clear tempMin tempMax\\n        end\\n    end; clear webi n i\\n\\n    %save data for each keyword for later plot comparison\\n    dataFinal{wordi,1} = DataFinal; clear DataFinal\\n    MetricAvg{wordi,1} = metricAvg; clear metricAvg\\n    PlotData{wordi,1} = plotData; clear plotData\\n    normPlotData{wordi,1} = NplotData; clear NplotData\\n'"
      ]
     },
     "execution_count": 11,
     "metadata": {},
     "output_type": "execute_result"
    }
   ],
   "source": [
    "TermName = 'GMO'\n",
    "\n",
    "numVars = 13;\n",
    "word = len(TermName);\n",
    "\n",
    "web = 1#; %how many search engines\n",
    "numPerURL = 1#; %how many URLS per search engine\n",
    "crawlCount = 5#; %how many links are being crawled per URL\n",
    "\n",
    "\n",
    "#for wordi = 1:word\n",
    "for wordi in TermName:\n",
    "    print(wordi)\n",
    "    \n",
    "\n",
    "metricAvg = []\n",
    "metricAvg.append(8)#; %grade level\n",
    "metricAvg.append(65)#; %FK reading ease\n",
    "metricAvg.append(8)#; %FK grade level\n",
    "metricAvg.append(8)#; %Gunning Fog\n",
    "metricAvg.append(25.5)#; %SMOG\n",
    "metricAvg.append(8)#; %Coleman\n",
    "metricAvg.append(9)#; %Automated Readability Index\n",
    "'''\n",
    "    for webi = 1:web\n",
    "        for n = 1:7\n",
    "            %find min and max values for each metric\n",
    "            tempMin = min([plotData{webi,2}(n,:) metricAvg(n,1)]);\n",
    "            tempMax = max([plotData{webi,2}(n,:) metricAvg(n,1)]);\n",
    "\n",
    "            %normalize\n",
    "            for i = 1:numPerURL\n",
    "                NplotData{webi,2}(n,i) = (plotData{webi,2}(n,i) - tempMin)/(tempMax-tempMin);\n",
    "                metricAvg(n,2) = (metricAvg(n,1) - tempMin)/(tempMax-tempMin);\n",
    "            end; clear tempMin tempMax\n",
    "        end\n",
    "    end; clear webi n i\n",
    "\n",
    "    %save data for each keyword for later plot comparison\n",
    "    dataFinal{wordi,1} = DataFinal; clear DataFinal\n",
    "    MetricAvg{wordi,1} = metricAvg; clear metricAvg\n",
    "    PlotData{wordi,1} = plotData; clear plotData\n",
    "    normPlotData{wordi,1} = NplotData; clear NplotData\n",
    "'''"
   ]
  },
  {
   "cell_type": "code",
   "execution_count": null,
   "metadata": {
    "collapsed": true
   },
   "outputs": [],
   "source": []
  },
  {
   "cell_type": "code",
   "execution_count": null,
   "metadata": {
    "collapsed": true
   },
   "outputs": [],
   "source": []
  }
 ],
 "metadata": {
  "kernelspec": {
   "display_name": "Python 3",
   "language": "python",
   "name": "python3"
  },
  "language_info": {
   "codemirror_mode": {
    "name": "ipython",
    "version": 3
   },
   "file_extension": ".py",
   "mimetype": "text/x-python",
   "name": "python",
   "nbconvert_exporter": "python",
   "pygments_lexer": "ipython3",
   "version": "3.6.2"
  }
 },
 "nbformat": 4,
 "nbformat_minor": 2
}
