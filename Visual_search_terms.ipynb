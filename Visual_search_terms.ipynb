{
 "cells": [
  {
   "cell_type": "code",
   "execution_count": 1,
   "metadata": {},
   "outputs": [],
   "source": [
    "#!pip install git+\"https://github.com/russelljjarvis/textstat.git\"\n"
   ]
  },
  {
   "cell_type": "code",
   "execution_count": 2,
   "metadata": {},
   "outputs": [],
   "source": [
    "import pickle\n",
    "\n",
    "#TkAgg\n",
    "import matplotlib\n",
    "#matplotlib.use('Qt5Agg')\n",
    "matplotlib.use('agg')\n",
    "import matplotlib as mpl\n",
    "import matplotlib.pyplot as plt\n",
    "\n",
    "\n",
    "#matplotlib.use('QT4Agg')\n",
    "#!pip install wxPython\n",
    "#!pip install backend_wx\n",
    "\n",
    "#WX\n",
    "#QTAgg\n",
    "#QT4Agg\n",
    "\n",
    "try: \n",
    "    with open('unraveled_links.p','rb') as handle:\n",
    "        unravel = pickle.load(handle)\n",
    "\n",
    "except:\n",
    "    import dask.bag as db\n",
    "    from t_analysis_flat import web_iter, map_wrapper\n",
    "    grid = {}\n",
    "    grid['b']=[0,1,2,3]\n",
    "    query_list = ['GMO','Genetically_Modified_Organism','Transgenic','Vaccine']\n",
    "    grid['search_term'] = [ (i, q) for i,q in enumerate(query_list) ]\n",
    "    from sklearn.grid_search import ParameterGrid\n",
    "    grid = list(ParameterGrid(grid))\n",
    "    grid = [(dicti['search_term'][0],dicti['search_term'][1],dicti['b']) for dicti in grid ]\n",
    "    #from dask.distributed import Client\n",
    "    import dask.bag as db\n",
    "    grid = db.from_sequence(grid,npartitions = 8)\n",
    "    list_per_links = list(db.map(web_iter,grid).compute())\n",
    "    \n",
    "    remove_empty = [i for i in list_per_links if len(i)>0 ]\n",
    "    unravel = []\n",
    "    for i in remove_empty:\n",
    "        unravel.extend(i)\n",
    "    \n",
    "    with open('unraveled_links.p','wb') as handle:\n",
    "        pickle.dump(unravel,handle)\n",
    "    #with open('unraveled_links.p','rb') as handle:\n",
    "    #    assert handle\n",
    "    #    unravel = pickle.load(handle)\n",
    "        \n",
    "\n",
    "import pandas as pd\n"
   ]
  },
  {
   "cell_type": "code",
   "execution_count": 3,
   "metadata": {},
   "outputs": [
    {
     "data": {
      "text/plain": [
       "{'cliau': 24.17,\n",
       " 'dcr': 8.56,\n",
       " 'dw': 1382,\n",
       " 'fkg': 12.9,\n",
       " 'fre': 24.85,\n",
       " 'gf': 17.930464933018126,\n",
       " 'keyword': 'GMO',\n",
       " 'link_rank': 0,\n",
       " 'lwf': 4.583333333333333,\n",
       " 'ri': 19.2,\n",
       " 'se': 'google_',\n",
       " 'sentcount': 188,\n",
       " 'smog': 10.3,\n",
       " 'sp': 0.055084360084360046,\n",
       " 'ss': 0.4824196482529815,\n",
       " 'standard': '12th and 13th grade',\n",
       " 'stfreq': 161,\n",
       " 'wcount': 5076}"
      ]
     },
     "execution_count": 3,
     "metadata": {},
     "output_type": "execute_result"
    }
   ],
   "source": [
    "unravel[0]['urlDat']"
   ]
  },
  {
   "cell_type": "code",
   "execution_count": 4,
   "metadata": {},
   "outputs": [
    {
     "data": {
      "text/plain": [
       "[0,\n",
       " 1,\n",
       " 2,\n",
       " 3,\n",
       " 4,\n",
       " 5,\n",
       " 6,\n",
       " 7,\n",
       " 8,\n",
       " 9,\n",
       " 10,\n",
       " 11,\n",
       " 12,\n",
       " 13,\n",
       " 14,\n",
       " 15,\n",
       " 16,\n",
       " 17,\n",
       " 18,\n",
       " 19,\n",
       " 20,\n",
       " 21,\n",
       " 22,\n",
       " 23,\n",
       " 24,\n",
       " 0,\n",
       " 1,\n",
       " 2,\n",
       " 3,\n",
       " 4,\n",
       " 5,\n",
       " 6,\n",
       " 7,\n",
       " 8,\n",
       " 9,\n",
       " 10,\n",
       " 11,\n",
       " 12,\n",
       " 13,\n",
       " 14,\n",
       " 15,\n",
       " 16,\n",
       " 17,\n",
       " 18,\n",
       " 19,\n",
       " 20,\n",
       " 21,\n",
       " 22,\n",
       " 23,\n",
       " 24,\n",
       " 0,\n",
       " 1,\n",
       " 2,\n",
       " 3,\n",
       " 4,\n",
       " 5,\n",
       " 6,\n",
       " 7,\n",
       " 8,\n",
       " 9,\n",
       " 10,\n",
       " 11,\n",
       " 12,\n",
       " 13,\n",
       " 14,\n",
       " 15,\n",
       " 16,\n",
       " 17,\n",
       " 18,\n",
       " 19,\n",
       " 20,\n",
       " 21,\n",
       " 22,\n",
       " 23,\n",
       " 24]"
      ]
     },
     "execution_count": 4,
     "metadata": {},
     "output_type": "execute_result"
    }
   ],
   "source": [
    "#print(list_per_links[1])\\\n",
    "\n",
    "bings = [ f for f in unravel if f['urlDat']['se'] =='bing_']\n",
    "#print(bings)\n",
    "googles = [ f for f in unravel if f['urlDat']['se'] =='google_']\n",
    "GMOs = [ f for f in unravel if f['urlDat']['keyword'] =='GMO']\n",
    "GMO_standard = [ f['urlDat']['standard'] for f in unravel if f['urlDat']['keyword'] =='GMO' ]\n",
    "GMO_rank = [ f['urlDat']['link_rank'] for f in unravel if f['urlDat']['keyword'] =='GMO' ]\n",
    "\n",
    "GMO_subjectivity_pol = [ f['urlDat']['sp'] for f in unravel if f['urlDat']['keyword'] =='GMO' ]\n",
    "GMO_subjectivity_sent = [ f['urlDat']['ss'] for f in unravel if f['urlDat']['keyword'] =='GMO' ]\n",
    "\n",
    "GMO_rank"
   ]
  },
  {
   "cell_type": "code",
   "execution_count": 5,
   "metadata": {},
   "outputs": [
    {
     "name": "stdout",
     "output_type": "stream",
     "text": [
      "0 google_\n",
      "1 gScholar_\n",
      "2 bing_\n",
      "3 yahoo_\n",
      "0 0\n",
      "0 google_\n",
      "1 gScholar_\n",
      "2 bing_\n",
      "3 yahoo_\n",
      "0 0\n",
      "0 google_\n",
      "1 gScholar_\n",
      "2 bing_\n",
      "3 yahoo_\n",
      "0 0\n",
      "0 google_\n",
      "1 gScholar_\n",
      "2 bing_\n",
      "3 yahoo_\n",
      "0 0\n"
     ]
    }
   ],
   "source": [
    "\n",
    "\n",
    "import seaborn as sns\n",
    "\n",
    "se = {}\n",
    "se[0] = 'google_'\n",
    "se[1] = 'gScholar_'\n",
    "se[2] = 'bing_'\n",
    "se[3] = 'yahoo_'\n",
    "\n",
    "ses = list(se.values())\n",
    "search_query = str('Vaccine')\n",
    "searchList = ['GMO','Genetically_Modified_Organism','Transgenic','Vaccine']\n",
    "\n",
    "for outer,search_query in enumerate(searchList):    \n",
    "    x = []\n",
    "    y = []\n",
    "    for i,v in enumerate(ses):\n",
    "        print(i,v)\n",
    "        complexity = [ f['urlDat']['fkg'] for f in unravel if f['urlDat']['keyword'] ==search_query and f['urlDat']['se'] == v ]\n",
    "        rank = [ f['urlDat']['link_rank'] for f in unravel if f['urlDat']['keyword'] ==search_query and f['urlDat']['se'] == v ]\n",
    "        #print(complexity[0][0],complexity[0][0])\n",
    "        x.append(rank)\n",
    "        y.append(complexity)\n",
    "    print(len(complexity),len(rank))\n",
    "    fig, ax = plt.subplots()\n",
    "    plt.title(str('reading grade ')+search_query)\n",
    "    plt.ylabel('text reading level')\n",
    "    plt.xlabel('link rank')\n",
    "    plt.scatter(x[0],y[0],label=ses[0])\n",
    "    plt.scatter(x[1],y[1],label=ses[1])\n",
    "    plt.scatter(x[2],y[2],label=ses[2])\n",
    "    plt.scatter(x[3],y[3],label=ses[3])\n",
    "    \n",
    "    #labels = [ses[0],ses[1],ses[2],ses[3]]\n",
    "    #lineObjects = plt.plot(x[0],y[0],'r',x[1],y[1],'g',x[2],y[2],'b',x[3],y[3],'k')\n",
    "    #plt.legend(lineObjects,labels)\n",
    "    legend = ax.legend(loc='upper center', shadow=True)\n",
    "    plt.savefig('rank_versus_complexity_{0}.png'.format(search_query))\n",
    "    plt.clf()\n",
    "import textstat\n",
    "import numpy as np\n",
    "\n",
    "\n"
   ]
  },
  {
   "cell_type": "code",
   "execution_count": 6,
   "metadata": {},
   "outputs": [
    {
     "name": "stdout",
     "output_type": "stream",
     "text": [
      "[[0.055084360084360046, 0.08742205217891004, 0.1862314413981081, 0.15869794851613037, 0.0929281559672555, 0.16534440559440552, 0.17250000000000001, 0.1592592592592593, 0.1592592592592593, 0.1606060606060606, 0.15616322856795425, 0.16157645892091899, 0.13817160533144066, 0.16289389060943182, 0.08303674500103073, 0.09453282846539428, 0.055084360084360046, 0.1077922077922078, 0.10617537924260616, 0.10896456645312476, 0.1872315314158534, 0.09187165859701063, 0.055084360084360046, 0.055084360084360046, 0.043010204081632655], [0.15925925925925927, 0.15925925925925927, 0.15925925925925927, 0.15925925925925927, 0.15925925925925927, 0.15925925925925927, 0.15925925925925927, 0.15925925925925927, 0.15925925925925927, 0.15925925925925927, 0.15925925925925927, 0.15925925925925927, 0.15925925925925927, 0.15925925925925927, 0.15925925925925927, 0.15925925925925927, 0.15925925925925927, 0.15925925925925927, 0.15925925925925927, 0.15925925925925927, 0.15925925925925927, 0.15925925925925927, 0.15925925925925927, 0.15925925925925927, 0.15925925925925927], [0.09341450216450219, 0.049933862433862435, 0.12309299895506792, 0.08000683526999315, 0.026246753246753244, 0.09206349206349207, 0.1343073593073593, 0.3225574712643678, 0.3188218390804598, 0.11126373626373626, 0.11126373626373626, 0.22327512934220278, 0.24725637052341617, 0.15795454545454546, 0.07529761904761904, 0.20889423076923078, -0.15277777777777773, 0.11481481481481481, 0.10043290043290043, 0.07214052287581699, -0.035227272727272725, 0.1640625, 0.049933862433862435, 0.05249999999999999, 0.11092245989304814], []] [[12.9, 10.2, 24.9, 9.7, 12.4, 7.8, 15.5, 14.8, 14.8, 16.5, 9.7, 10.6, 10.7, 9.4, 10.1, 10.6, 12.9, 14.1, 11.0, 9.9, 10.7, 11.5, 12.9, 12.9, 12.7], [8.9, 8.9, 8.9, 8.9, 8.9, 8.9, 8.9, 8.9, 8.9, 8.9, 8.9, 8.9, 8.9, 8.9, 8.9, 8.9, 8.9, 8.9, 8.9, 8.9, 8.9, 10.0, 8.9, 8.9, 10.0], [15.9, 15.5, 16.1, 14.5, 17.6, 14.7, 14.8, 10.5, 10.6, 16.6, 16.6, 12.3, 12.1, 10.2, 13.7, 9.0, 11.0, 9.6, 10.9, 12.1, 9.7, 11.7, 15.5, 13.4, 10.4], []]\n",
      "[[0.03209786832802705, 0.09394855107656717, 0.2337711352657005, 0.15432613109604257, 0.041427489177489195, 0.09042934582524026, 0.17250000000000001, 0.1592592592592593, 0.1592592592592593, 0.1606060606060606, 0.1257712405439678, 0.136031243062493, 0.11871794419348768, 0.13313895394223252, 0.11156612096444193, 0.08595084900533785, 0.06400712559934472, 0.02445621261155248, 0.02037786639688816, 0.03720238095238096, 0.02048922085807334, 0.03553921568627451, 0.02048922085807334, 0.07687074829931972, 0.023833026942616024], [0.15925925925925927, 0.15925925925925927, 0.15925925925925927, 0.15925925925925927, 0.15925925925925927, 0.15925925925925927, 0.15925925925925927, 0.15925925925925927, 0.15925925925925927, 0.15925925925925927, 0.15925925925925927, 0.15925925925925927, 0.15925925925925927, 0.15925925925925927, 0.15925925925925927, 0.15925925925925927, 0.15925925925925927, 0.15925925925925927, 0.15925925925925927, 0.15925925925925927, 0.15925925925925927, 0.15925925925925927, 0.15925925925925927, 0.15925925925925927, 0.15925925925925927], [0.12113636363636364, 0.14898989898989903, 0.17578787878787883, 0.031567911255411245, 0.08250811688311688, 0.09206349206349207, 0.09206349206349207, 0.21818181818181817, 0.21818181818181817, 0.10959679855028691, 0.1055194805194805, 0.23722161372763806, 0.15870240870240865, 0.08933566433566434, 0.08281130634071811, 0.07750000000000001, 0.04990842490842491, 0.15396825396825395, 0.09952380952380953, 0.048496050732892836, -0.08035714285714286, 0.08892045454545455, 0.08892045454545455, 0.08892045454545455, 0.08892045454545455], []] [[14.1, 12.3, 32.0, 13.1, 11.5, 14.9, 15.4, 14.8, 14.8, 16.5, 13.3, 11.8, 12.4, 12.3, 13.2, 17.4, 14.1, 16.2, 14.1, 16.3, 14.1, 16.8, 14.1, 14.0, 14.1], [10.0, 10.0, 10.0, 10.0, 10.0, 10.0, 10.0, 10.0, 10.0, 10.0, 10.0, 10.0, 10.0, 10.0, 10.0, 10.0, 10.0, 10.0, 10.0, 10.0, 10.0, 8.9, 10.0, 8.9, 8.9], [16.2, 15.8, 17.8, 15.4, 14.9, 14.7, 14.7, 12.9, 12.9, 15.8, 16.0, 12.5, 11.7, 9.4, 11.0, 10.7, 20.0, 13.6, 16.2, 12.3, 17.1, 17.3, 17.3, 17.3, 17.3], []]\n",
      "[[-0.07560581543591252, 0.07268597233403065, 0.2549527444565612, 0.10788455749548462, 0.11969311702321409, 0.15343421988969955, 0.17250000000000001, 0.1592592592592593, 0.1592592592592593, 0.1606060606060606, 0.16964053803339518, 0.12195943498732345, 0.08896962373466134, 0.08464889649041434, 0.10972515579658434, 0.08373794677043775, -0.07560581543591252, 0.09059183673469388, 0.09857570188946034, 0.05611377683280336, 0.1088599548599549, 0.07918838899196046, -0.07497223034200524, -0.07560581543591252, 0.15925925925925927], [0.15925925925925927, 0.15925925925925927, 0.15925925925925927, 0.15925925925925927, 0.15925925925925927, 0.15925925925925927, 0.15925925925925927, 0.15925925925925927, 0.15925925925925927, 0.15925925925925927, 0.15925925925925927, 0.15925925925925927, 0.15925925925925927, 0.15925925925925927, 0.15925925925925927, 0.15925925925925927, 0.15925925925925927, 0.15925925925925927, 0.15925925925925927, 0.15925925925925927, 0.15925925925925927, 0.15925925925925927, 0.15925925925925927, 0.15925925925925927, 0.15925925925925927], [0.056744868035190604, 0.17578781512605043, 0.08739669421487603, 0.08340909090909092, 0.08969155844155843, 0.23181818181818184, 0.10527597402597401, 0.15138414217361587, 0.14606643356643356, 0.04090909090909091, 0.015530303030303035, 0.0425438596491228, 0.04687499999999999, 0.22916666666666666], []] [[12.6, 11.6, 38.7, 14.3, 11.8, 9.3, 16.6, 14.8, 14.8, 16.5, 9.8, 11.6, 12.9, 13.2, 13.0, 13.1, 12.6, 15.6, 12.3, 12.1, 13.4, 14.5, 13.8, 12.6, 11.3], [8.9, 8.9, 8.9, 8.9, 8.9, 8.9, 8.9, 8.9, 8.9, 8.9, 8.9, 8.9, 8.9, 8.9, 8.9, 8.9, 8.9, 8.9, 8.9, 8.9, 8.9, 10.0, 8.9, 8.9, 10.0], [14.2, 12.8, 14.8, 14.7, 17.6, 16.1, 14.2, 14.5, 17.1, 19.8, 19.4, 16.2, 17.2, 14.7], []]\n",
      "[[0.07924794635849916, 0.08331646082202875, 0.122691322703699, 0.12244120026186534, 0.12661715552021682, 0.18070644872369002, 0.17250000000000001, 0.1592592592592593, 0.1592592592592593, 0.1606060606060606, 0.10535053428372394, 0.10464644905552489, 0.09503720511472451, 0.084114431726372, 0.10970847743194112, 0.08532145748851361, 0.07924794635849916, 0.05326479076479076, 0.09905972766549691, 0.12215969501598953, 0.10053179857801715, 0.0794145560322031, 0.07924794635849916, 0.08230483644390929, 0.07924794635849916], [0.15925925925925927, 0.15925925925925927, 0.15925925925925927, 0.15925925925925927, 0.15925925925925927, 0.15925925925925927, 0.15925925925925927, 0.15925925925925927, 0.15925925925925927, 0.15925925925925927, 0.15925925925925927, 0.15925925925925927, 0.15925925925925927, 0.15925925925925927, 0.15925925925925927, 0.15925925925925927, 0.15925925925925927, 0.15925925925925927, 0.15925925925925927, 0.15925925925925927, 0.15925925925925927, 0.15925925925925927, 0.15925925925925927, 0.15925925925925927, 0.15925925925925927], [0.060543530543530545, 0.13666666666666666, 0.09953617810760666, 0.2002020202020202, 0.13453526865291573, 0.17802419354838708, 0.030508658008658013, 0.044480519480519495, 0.11815476190476189, 0.09311417748917751, 0.12013748597081927, 0.20585399449035816, 0.11147142857142858, 0.11154729109274564, 0.112037037037037, 0.04000000000000001, 0.1662717770034843, 0.05584415584415585, 0.1567218099360957, 0.1604489795918367, 0.39294753086419754, 0.2693656343656343, 0.09154414767622313, 0.06191502463054187, 0.10517012227538543], []] [[15.2, 10.6, 30.8, 13.2, 10.1, 8.4, 16.6, 14.8, 14.8, 16.5, 10.9, 11.0, 11.0, 11.3, 12.1, 12.1, 15.2, 15.0, 11.7, 9.3, 11.3, 13.7, 15.2, 10.7, 15.2], [8.9, 8.9, 8.9, 8.9, 8.9, 8.9, 8.9, 8.9, 8.9, 8.9, 8.9, 8.9, 8.9, 8.9, 8.9, 8.9, 8.9, 8.9, 8.9, 8.9, 8.9, 10.0, 8.9, 8.9, 10.1], [13.4, 14.9, 12.3, 12.0, 12.7, 14.4, 12.5, 14.7, 12.5, 13.9, 12.3, 17.3, 11.6, 11.2, 14.4, 16.5, 13.9, 17.8, 14.8, 12.4, 13.8, 13.7, 15.2, 14.8, 13.2], []]\n"
     ]
    }
   ],
   "source": [
    "# 2.       Pro/anti/neutral vs. text complexity#\n",
    "\n",
    "for outer,search_query in enumerate(searchList):    \n",
    "    x = []\n",
    "    y = []\n",
    "    for i,v in enumerate(ses):\n",
    "        #print(i,v)\n",
    "        complexity = [ f['urlDat']['fkg'] for f in unravel if f['urlDat']['keyword'] ==search_query and f['urlDat']['se'] == v ]\n",
    "        sent = [ f['urlDat']['sp'] for f in unravel if f['urlDat']['keyword'] ==search_query and f['urlDat']['se'] == v ]\n",
    "        #print(complexity[0][0],complexity[0][0])\n",
    "        x.append(sent)\n",
    "        y.append(complexity)\n",
    "\n",
    "    fig, ax = plt.subplots()\n",
    "    plt.title(str('sentiment ')+search_query)\n",
    "    plt.ylabel('text reading level')\n",
    "    plt.xlabel('sentiment polarity')\n",
    "    labels = [ses[0],ses[1],ses[2],ses[3]]\n",
    "    #lineObjects = \n",
    "    plt.scatter(x[0],y[0],label=ses[0])\n",
    "    plt.scatter(x[1],y[1],label=ses[1])\n",
    "    plt.scatter(x[2],y[2],label=ses[2])\n",
    "    plt.scatter(x[3],y[3],label=ses[3])\n",
    "\n",
    "    legend = ax.legend(loc='upper center', shadow=True)\n",
    "    plt.savefig('sentiment_vs_complexity{0}.png'.format(search_query))\n",
    "    plt.clf()\n",
    "import textstat\n",
    "import numpy as np\n",
    "#\n",
    "\n",
    "\n",
    "\n",
    "\n",
    "#:"
   ]
  },
  {
   "cell_type": "code",
   "execution_count": null,
   "metadata": {},
   "outputs": [],
   "source": [
    "\n"
   ]
  },
  {
   "cell_type": "code",
   "execution_count": 20,
   "metadata": {},
   "outputs": [
    {
     "name": "stdout",
     "output_type": "stream",
     "text": [
      "0 google_\n",
      "1 gScholar_\n",
      "2 bing_\n",
      "3 yahoo_\n",
      "0 google_\n",
      "1 gScholar_\n",
      "2 bing_\n",
      "3 yahoo_\n",
      "0"
     ]
    },
    {
     "name": "stderr",
     "output_type": "stream",
     "text": [
      "/opt/conda/lib/python3.6/site-packages/matplotlib/pyplot.py:524: RuntimeWarning: More than 20 figures have been opened. Figures created through the pyplot interface (`matplotlib.pyplot.figure`) are retained until explicitly closed and may consume too much memory. (To control this warning, see the rcParam `figure.max_open_warning`).\n",
      "  max_open_warning, RuntimeWarning)\n"
     ]
    },
    {
     "name": "stdout",
     "output_type": "stream",
     "text": [
      " 0\n",
      "[0, 1, 2, 3] [12.6, 8.9, 14.2, 0]\n"
     ]
    }
   ],
   "source": [
    "# 3.       GMO/transgenics vs. text complexity\n",
    "\n",
    "import seaborn as sns\n",
    "se = {}\n",
    "se[0] = 'google_'\n",
    "se[1] = 'gScholar_'\n",
    "se[2] = 'bing_'\n",
    "se[3] = 'yahoo_'\n",
    "\n",
    "ses = list(se.values())\n",
    "search_query = str('Vaccine')\n",
    "search_query = ['GMO','Transgenic']\n",
    "xx=[]\n",
    "yy=[]\n",
    "for outer,sq in enumerate(search_query):    \n",
    "    x = []\n",
    "    y = []\n",
    "    for i,v in enumerate(ses):\n",
    "        complexity = [ f['urlDat']['fkg'] for f in unravel if f['urlDat']['keyword'] ==sq and f['urlDat']['se'] == v and f['urlDat']['link_rank'] == 0 ]\n",
    "        if len(complexity)>0:\n",
    "            comp = float(complexity[0])\n",
    "        else:\n",
    "            comp = 0\n",
    "        xx.append(i)\n",
    "        y.append(comp)    \n",
    "    yy.append(y)\n",
    "print(len(complexity),len(rank))\n",
    "fig, ax = plt.subplots()\n",
    "# Two subplots, the axes array is 1-d\n",
    "width = 0.35       # the width of the bars\n",
    "plt.clf()\n",
    "fig, ax = plt.subplots()\n",
    "\n",
    "#f, axarr = plt.subplots(1, sharex=True)\n",
    "ind = [i for i,v in enumerate(ses)]\n",
    "offset = [(i+width)/2.0 for i,v in enumerate(ses)]\n",
    "\n",
    "rects1 = ax.bar(ind,yy[0],width, color='r')# yerr=men_std)\n",
    "rects2 = ax.bar(ind, yy[1], width, color='y')#, yerr=women_std)\n",
    "# add some text for labels, title and axes ticks\n",
    "ax.set_ylabel('Complexity')\n",
    "ax.set_title('Complexity by search query and Search Engine')\n",
    "ax.set_xticks(offset)\n",
    "ax.set_xticklabels((se[0], se[1], se[2], se[3]))#, 'G5'))\n",
    "\n",
    "ax.legend((rects1[0], rects2[0]), ('GMO', 'Transgenic'))\n",
    "\n",
    "plt.savefig('GMO_Transgenic_complexity_{0}{1}.png'.format(search_query[0],search_query[1]))\n",
    "import numpy as np\n"
   ]
  },
  {
   "cell_type": "code",
   "execution_count": null,
   "metadata": {
    "collapsed": true
   },
   "outputs": [],
   "source": []
  },
  {
   "cell_type": "code",
   "execution_count": null,
   "metadata": {
    "collapsed": true
   },
   "outputs": [],
   "source": []
  },
  {
   "cell_type": "code",
   "execution_count": null,
   "metadata": {
    "collapsed": true
   },
   "outputs": [],
   "source": []
  }
 ],
 "metadata": {
  "kernelspec": {
   "display_name": "Python 3",
   "language": "python",
   "name": "python3"
  },
  "language_info": {
   "codemirror_mode": {
    "name": "ipython",
    "version": 3
   },
   "file_extension": ".py",
   "mimetype": "text/x-python",
   "name": "python",
   "nbconvert_exporter": "python",
   "pygments_lexer": "ipython3",
   "version": "3.6.2"
  }
 },
 "nbformat": 4,
 "nbformat_minor": 2
}
